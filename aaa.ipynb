{
 "cells": [
  {
   "cell_type": "markdown",
   "id": "efd0b15f",
   "metadata": {},
   "source": [
    "# asfasdf a"
   ]
  },
  {
   "cell_type": "code",
   "execution_count": null,
   "id": "21646ebd",
   "metadata": {
    "vscode": {
     "languageId": "plaintext"
    }
   },
   "outputs": [],
   "source": []
  }
 ],
 "metadata": {
  "language_info": {
   "name": "python"
  }
 },
 "nbformat": 4,
 "nbformat_minor": 5
}
